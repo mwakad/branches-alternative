{
 "cells": [
  {
   "cell_type": "markdown",
   "metadata": {},
   "source": [
    "# Procedure (run from terminal of VS Code)\n",
    "## Replace daniel with the name of your branch\n",
    "1: git checkout daniel    -- to switch to your branch to work from there\n",
    "\n",
    "2: git pull origin main   -- to update your index.ipynb to the latest in main branch\n",
    "\n",
    "   *** work on the pulled index.ipynb file***\n",
    "\n",
    "3: git add index.ipynb    -- to stage your updated index.ipynb with your changes/ modifications\n",
    "\n",
    "4: git commit -m \"add /update/ modify this...\" -- highlight work done\n",
    "\n",
    "5: git push origin daniel   -- push changes to your branch\n",
    "\n",
    "6: git checkout main      -- switch to the main branch so you can make changes to it\n",
    "\n",
    "7: git merge daniel  -- merge changes made in the index.ipynb by daniel to main\n",
    "\n",
    "8: git push -u origin main  -- push the changes you made to main"
   ]
  },
  {
   "cell_type": "code",
   "execution_count": 1,
   "metadata": {},
   "outputs": [],
   "source": [
    "import pandas as pd\n",
    "import numpy as np\n",
    "import matplotlib.pyplot as plt\n",
    "import seaborn as sns\n",
    "%matplotlib inline"
   ]
  },
  {
   "cell_type": "code",
   "execution_count": null,
   "metadata": {},
   "outputs": [],
   "source": [
    "# Abdirahman loads the data from abdirahman branch\n",
    "\n",
    "# df = pd.read_csv('./data/aviation-data.csv', encoding = \"latin1\", low_memory = False)\n",
    "# df.head()"
   ]
  },
  {
   "cell_type": "code",
   "execution_count": null,
   "metadata": {},
   "outputs": [],
   "source": [
    "# Daniel displays dataframe columns from daniel branch\n",
    "\n",
    "# df.columns"
   ]
  },
  {
   "cell_type": "code",
   "execution_count": null,
   "metadata": {},
   "outputs": [],
   "source": [
    "# Eliana checks shape from eliana branch\n",
    "\n",
    "# df.shape"
   ]
  },
  {
   "cell_type": "code",
   "execution_count": null,
   "metadata": {},
   "outputs": [],
   "source": [
    "# Gerald examines columns from gerald branch\n",
    "\n",
    "# df.info()"
   ]
  },
  {
   "cell_type": "code",
   "execution_count": null,
   "metadata": {},
   "outputs": [],
   "source": [
    "# Marion conducts descriptives from marion branch\n",
    "\n",
    "# df.describe()"
   ]
  }
 ],
 "metadata": {
  "kernelspec": {
   "display_name": "Python (learn-env)",
   "language": "python",
   "name": "learn-env"
  },
  "language_info": {
   "codemirror_mode": {
    "name": "ipython",
    "version": 3
   },
   "file_extension": ".py",
   "mimetype": "text/x-python",
   "name": "python",
   "nbconvert_exporter": "python",
   "pygments_lexer": "ipython3",
   "version": "3.8.5"
  }
 },
 "nbformat": 4,
 "nbformat_minor": 5
}
