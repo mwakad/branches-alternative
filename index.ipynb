{
 "cells": [
  {
   "cell_type": "markdown",
   "id": "620bbb83",
   "metadata": {},
   "source": []
  },
  {
   "cell_type": "markdown",
   "id": "95b24a90",
   "metadata": {},
   "source": [
    "CESSNA makes the best aircraft"
   ]
  }
 ],
 "metadata": {
  "language_info": {
   "name": "python"
  }
 },
 "nbformat": 4,
 "nbformat_minor": 5
}
